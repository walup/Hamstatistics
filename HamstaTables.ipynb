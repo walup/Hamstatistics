{
 "cells": [
  {
   "cell_type": "code",
   "execution_count": 3,
   "metadata": {},
   "outputs": [],
   "source": [
    "using Gtk\n",
    "using Gtk.ShortNames"
   ]
  },
  {
   "cell_type": "code",
   "execution_count": 79,
   "metadata": {},
   "outputs": [
    {
     "data": {
      "text/plain": [
       "generateArray (generic function with 2 methods)"
      ]
     },
     "execution_count": 79,
     "metadata": {},
     "output_type": "execute_result"
    }
   ],
   "source": [
    "\n",
    "function enterData(rows, columns,table)\n",
    "    columnCounter = 0\n",
    "    rowCounter = 0\n",
    "    grid = Grid()\n",
    "    \n",
    "    for i in 1:rows\n",
    "        rowCounter+=1\n",
    "        for j in 1:columns\n",
    "           columnCounter+=1 \n",
    "           a = Entry()\n",
    "           setproperty!(a,:text,\"\")\n",
    "           grid[i,j] = a\n",
    "        end\n",
    "    end\n",
    "    setproperty!(grid, :column_homogeneous, true)\n",
    "    window = Window()\n",
    "    vBox = Box(:v)\n",
    "    \n",
    "    #=Generate array button=#\n",
    "    button = Button(\"Generate Array\")\n",
    "    \n",
    "    #=Associate the button with the function generate array =#\n",
    "    id = signal_connect(button, \"clicked\") do widget\n",
    "     return generateArray(grid,rows,columns,table)    \n",
    "    end\n",
    "    \n",
    "    push!(vBox,grid)\n",
    "    push!(vBox,button)\n",
    "    push!(window,vBox)\n",
    "    \n",
    "    showall(window)\n",
    "end\n",
    "\n",
    "function generateArray(grid, rows, columns,table)\n",
    "    for i in 1:rows\n",
    "        row = []\n",
    "        for j in 1:columns\n",
    "            num = tryparse(Float64,getproperty(grid[i,j],:text,String))\n",
    "            if(num == nothing)\n",
    "                println(\"One of your entries is not a number!\")\n",
    "                return\n",
    "            else\n",
    "            push!(row,num)                \n",
    "            end\n",
    "        end\n",
    "        push!(table,row)\n",
    "    end\n",
    "    println(\"Array generated!\")\n",
    "end"
   ]
  },
  {
   "cell_type": "markdown",
   "metadata": {},
   "source": [
    "# Instrucciones\n",
    "\n",
    "Por el momento el programa no hace gran cosa. Para generar un arreglo se utiliza la función \n",
    "\n",
    "enterData(rows,columns,table)\n",
    "\n",
    "donde rows es el número de filas de la hoja de datos, columns el número de columnas y table es una tabla vacia que vamos a llenar. Solamente construya una como table = [] y pásela como argumento. "
   ]
  },
  {
   "cell_type": "code",
   "execution_count": 84,
   "metadata": {},
   "outputs": [
    {
     "data": {
      "text/plain": [
       "Gtk.GtkWindowLeaf(name=\"\", parent, width-request=-1, height-request=-1, visible=TRUE, sensitive=TRUE, app-paintable=FALSE, can-focus=FALSE, has-focus=FALSE, is-focus=FALSE, focus-on-click=TRUE, can-default=FALSE, has-default=FALSE, receives-default=FALSE, composite-child=FALSE, style, events=0, no-show-all=FALSE, has-tooltip=FALSE, tooltip-markup=NULL, tooltip-text=NULL, window, opacity=1.000000, double-buffered, halign=GTK_ALIGN_FILL, valign=GTK_ALIGN_FILL, margin-left, margin-right, margin-start=0, margin-end=0, margin-top=0, margin-bottom=0, margin=0, hexpand=FALSE, vexpand=FALSE, hexpand-set=FALSE, vexpand-set=FALSE, expand=FALSE, scale-factor=1, border-width=0, resize-mode, child, type=GTK_WINDOW_TOPLEVEL, title=NULL, role=NULL, resizable=TRUE, modal=FALSE, window-position=GTK_WIN_POS_NONE, default-width=-1, default-height=-1, destroy-with-parent=FALSE, hide-titlebar-when-maximized=FALSE, icon, icon-name=NULL, screen, type-hint=GDK_WINDOW_TYPE_HINT_NORMAL, skip-taskbar-hint=FALSE, skip-pager-hint=FALSE, urgency-hint=FALSE, accept-focus=TRUE, focus-on-map=TRUE, decorated=TRUE, deletable=TRUE, gravity=GDK_GRAVITY_NORTH_WEST, transient-for, attached-to, has-resize-grip, resize-grip-visible, application, is-active=TRUE, has-toplevel-focus=TRUE, startup-id, mnemonics-visible=FALSE, focus-visible=FALSE, is-maximized=FALSE)"
      ]
     },
     "execution_count": 84,
     "metadata": {},
     "output_type": "execute_result"
    },
    {
     "name": "stdout",
     "output_type": "stream",
     "text": [
      "Array generated!\n",
      "Array generated!\n"
     ]
    }
   ],
   "source": [
    "table = []\n",
    "enterData(2,2,table)"
   ]
  },
  {
   "cell_type": "code",
   "execution_count": 83,
   "metadata": {},
   "outputs": [
    {
     "data": {
      "text/plain": [
       "2-element Array{Any,1}:\n",
       " Any[3.0, 6.0]\n",
       " Any[4.0, 5.0]"
      ]
     },
     "execution_count": 83,
     "metadata": {},
     "output_type": "execute_result"
    }
   ],
   "source": [
    "table"
   ]
  },
  {
   "cell_type": "code",
   "execution_count": 78,
   "metadata": {},
   "outputs": [
    {
     "data": {
      "text/plain": [
       "0"
      ]
     },
     "execution_count": 78,
     "metadata": {},
     "output_type": "execute_result"
    }
   ],
   "source": []
  },
  {
   "cell_type": "code",
   "execution_count": null,
   "metadata": {},
   "outputs": [],
   "source": []
  }
 ],
 "metadata": {
  "kernelspec": {
   "display_name": "Julia 0.6.2",
   "language": "julia",
   "name": "julia-0.6"
  },
  "language_info": {
   "file_extension": ".jl",
   "mimetype": "application/julia",
   "name": "julia",
   "version": "0.6.2"
  }
 },
 "nbformat": 4,
 "nbformat_minor": 2
}
