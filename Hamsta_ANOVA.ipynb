{
 "cells": [
  {
   "cell_type": "code",
   "execution_count": 58,
   "metadata": {},
   "outputs": [
    {
     "data": {
      "text/plain": [
       "Gtk"
      ]
     },
     "execution_count": 58,
     "metadata": {},
     "output_type": "execute_result"
    }
   ],
   "source": [
    "using Gtk\n",
    "using Gtk.ShortNames\n",
    "gtk = Gtk"
   ]
  },
  {
   "cell_type": "code",
   "execution_count": 136,
   "metadata": {},
   "outputs": [
    {
     "data": {
      "text/plain": [
       "generateArray (generic function with 1 method)"
      ]
     },
     "execution_count": 136,
     "metadata": {},
     "output_type": "execute_result"
    }
   ],
   "source": [
    "function enterANOVAData(rows,cols,sampleSize,rowNames,colNames,table)\n",
    "    #=This won't be very efficient but i'm in a hurry=#\n",
    "    grid = Grid()\n",
    "    for i in 1:rows\n",
    "       label = Label(rowNames[i]) \n",
    "       grid[1,i+1] =  label\n",
    "    end\n",
    "    \n",
    "    for j in 1:cols\n",
    "        label = Label(colNames[j])\n",
    "        grid[j+1,1]= label\n",
    "    end\n",
    "    \n",
    "    #=In each block we want a grid of size sampleSize=#\n",
    "    \n",
    "    for i in 2:rows+1\n",
    "        for j in 2:cols+1\n",
    "            gr = Grid()\n",
    "            for k in 1:sampleSize\n",
    "                a = Entry()\n",
    "                setproperty!(a,:text,\"\")\n",
    "                gr[1,k] = a\n",
    "            end\n",
    "            fr = Frame(gr)\n",
    "            grid[j,i] = fr\n",
    "            println(\"filled \", i, \"and \",j)\n",
    "        end\n",
    "    end\n",
    "    \n",
    "    setproperty!(grid, :column_homogeneous, true)\n",
    "    scrWin = ScrolledWindow()\n",
    "    setproperty!(scrWin, :min_content_width, 400)\n",
    "    setproperty!(scrWin, :min_content_height, 400)\n",
    "    \n",
    "    push!(scrWin,grid)\n",
    "    window = Window()\n",
    "    vBox = Box(:v)\n",
    "    \n",
    "    #=Generate array button=#\n",
    "    button = Button(\"Generate Array\")\n",
    "    \n",
    "     #=Associate the button with the function generate array =#\n",
    "    id = signal_connect(button, \"clicked\") do widget\n",
    "     return generateArray(grid,rows,cols,sampleSize,table)    \n",
    "    end\n",
    "    \n",
    "    push!(vBox,scrWin)\n",
    "    push!(vBox,button)\n",
    "    push!(window,vBox)\n",
    "    \n",
    "    showall(window)\n",
    "end\n",
    "\n",
    "function generateArray(grid, rows, cols,sampleSize,table)\n",
    "    for i in 2:rows+1\n",
    "        row = []\n",
    "        for j in 2:cols+1\n",
    "            col = []\n",
    "            for k in 1:sampleSize\n",
    "                num = 0\n",
    "                for child in grid[j,i]\n",
    "                num = get(tryparse(Float64,getproperty(child[1,k],:text,String)))\n",
    "                println(num)\n",
    "                push!(col,num)\n",
    "                end\n",
    "            end\n",
    "            push!(row,col)\n",
    "        end\n",
    "        push!(table,row)\n",
    "    end\n",
    "    println(\"Array generated!\")\n",
    "end\n",
    "    "
   ]
  },
  {
   "cell_type": "code",
   "execution_count": 137,
   "metadata": {},
   "outputs": [
    {
     "data": {
      "text/plain": [
       "RVAB (generic function with 1 method)"
      ]
     },
     "execution_count": 137,
     "metadata": {},
     "output_type": "execute_result"
    }
   ],
   "source": [
    "#=Vamos a hacer las funciones que calculen todo lo que pide la hamster en el ejercicio 3=#\n",
    "function meanGenerator(data,dim)\n",
    "    a = size(data,1)\n",
    "    b = size(data[1],1)\n",
    "    n = size(data[1][1],1)\n",
    "    if(dim ==1)\n",
    "        result = []\n",
    "        for j in 1:b\n",
    "            arr =[]\n",
    "            for k in 1:n\n",
    "                sum = 0\n",
    "                for i in 1:a\n",
    "                    sum+=data[i][j][k]\n",
    "                end\n",
    "                sum = sum/a\n",
    "                push!(arr,sum)\n",
    "            end\n",
    "            push!(result,arr)\n",
    "        end\n",
    "        return result\n",
    "        \n",
    "        \n",
    "    elseif(dim ==2)\n",
    "        result = []\n",
    "            for i in 1:a\n",
    "            arr =[]\n",
    "            for k in 1:n\n",
    "                sum = 0\n",
    "                for j in 1:b\n",
    "                    sum+=data[i][j][k]\n",
    "                end\n",
    "                sum = sum/b\n",
    "                push!(arr,sum)\n",
    "            end\n",
    "            push!(result,arr)\n",
    "        end\n",
    "    return result\n",
    "        \n",
    "    elseif(dim == 3)\n",
    "        result = []\n",
    "        for i in 1:a\n",
    "            arr =[]\n",
    "            for j in 1:b\n",
    "                sum = 0\n",
    "                for k in 1:n\n",
    "                    sum+=data[i][j][k]\n",
    "                end\n",
    "                sum = sum/n\n",
    "                push!(arr,sum)\n",
    "            end\n",
    "            push!(result,arr)\n",
    "        end\n",
    "        return result\n",
    "        \n",
    "    elseif(dim == 4)\n",
    "        #=Here get the total mean=#\n",
    "        numData = 0\n",
    "        result = 0\n",
    "        for i in 1:a\n",
    "            for j in 1:b\n",
    "                for k in 1:n\n",
    "                    numData+=1\n",
    "                    result+=data[i][j][k]\n",
    "                end\n",
    "            end\n",
    "        end\n",
    "        return result/(a*b*n)\n",
    "    end\n",
    "end\n",
    "\n",
    "function SCT(data)\n",
    "    gMean = meanGenerator(data,4)\n",
    "    a = size(data,1)\n",
    "    b = size(data[1],1)\n",
    "    n = size(data[1][1],1)\n",
    "    sum = 0\n",
    "    for i in 1:a\n",
    "        for j in 1:b\n",
    "            for k in 1:n\n",
    "                sum+=(data[i][j][k]-gMean)^2\n",
    "            end\n",
    "        end\n",
    "    end\n",
    "    return sum \n",
    "end\n",
    "\n",
    "function SCTr(data)\n",
    "    means = meanGenerator(data,3)\n",
    "    gMean = meanGenerator(data,4)\n",
    "    a = size(data,1)\n",
    "    b = size(data[1],1)\n",
    "    n = size(data[1][1],1)\n",
    "    sum = 0\n",
    "    for i in 1:a\n",
    "        for j in 1:b\n",
    "            for k in 1:n\n",
    "            sum+=(means[i][j]-gMean)^2\n",
    "            end\n",
    "        end\n",
    "    end\n",
    "    return sum \n",
    "end\n",
    "\n",
    "function SCResidual(data)\n",
    "    return SCT(data)-SCTr(data)\n",
    "end\n",
    "\n",
    "function SCA(data)\n",
    "    gMean = meanGenerator(data,4)\n",
    "    aMean = meanGeneratorDual(data,2,3)\n",
    "    sum = 0\n",
    "    a = size(data,1)\n",
    "    b = size(data[1],1)\n",
    "    n = size(data[1][1],1)\n",
    "    for i in 1:a\n",
    "        for j in 1:b\n",
    "            for k in 1:n\n",
    "            sum+=(aMean[i]-gMean)^2\n",
    "            end\n",
    "        end\n",
    "    end\n",
    "    return sum\n",
    "end\n",
    "\n",
    "function SCB(data)\n",
    "    gMean = meanGenerator(data,4)\n",
    "    bMean = meanGeneratorDual(data,1,3)\n",
    "    sum = 0\n",
    "    a = size(data,1)\n",
    "    b = size(data[1],1)\n",
    "    n = size(data[1][1],1)\n",
    "    for i in 1:a\n",
    "        for j in 1:b\n",
    "            for k in 1:n\n",
    "                sum+=(bMean[j]-gMean)^2\n",
    "            end\n",
    "        end\n",
    "    end\n",
    "    return sum\n",
    "end\n",
    "\n",
    "function meanGeneratorDual(data,dim1,dim2)\n",
    "    if(dim1 ==2 && dim2 == 3)\n",
    "        mean2 = meanGenerator(data,3)\n",
    "        a = size(mean2,1)\n",
    "        b = size(mean2[1],1)\n",
    "        result = []\n",
    "        for i in 1:a\n",
    "            sum = 0\n",
    "            for j in 1:b\n",
    "                sum+=mean2[i][j]\n",
    "            end\n",
    "            sum = sum/b\n",
    "            push!(result,sum)\n",
    "        end\n",
    "        return result\n",
    "        \n",
    "        elseif(dim1 == 1 && dim2 == 3)\n",
    "        mean1 = meanGenerator(data,3)\n",
    "        a = size(mean1,1)\n",
    "        b = size(mean1[1],1)\n",
    "        result = []\n",
    "        for j in 1:b\n",
    "            sum = 0\n",
    "            for i in 1:a\n",
    "                sum+=mean1[i][j]\n",
    "            end\n",
    "            sum = sum/a\n",
    "            push!(result,sum)\n",
    "        end\n",
    "        return result\n",
    "    end\n",
    "end\n",
    "\n",
    "function SCAB(data)\n",
    "   return SCTr(data)-SCA(data)-SCB(data) \n",
    "end\n",
    "\n",
    "function CMA(data)\n",
    "   a = size(data,1)\n",
    "   return SCA(data)/(a-1) \n",
    "end\n",
    "\n",
    "function CMB(data)\n",
    "   b = size(data[1],1)\n",
    "   return SCB(data)/(b-1) \n",
    "end\n",
    "\n",
    "function CMAB(data)\n",
    "   a = size(data,1)\n",
    "   b = size(data[1],1)\n",
    "   return SCAB(data)/((a-1)*(b-1)) \n",
    "end\n",
    "\n",
    "function CMRES(data)\n",
    "    a = size(data,1)\n",
    "    b = size(data[1],1)\n",
    "    n = size(data[1][1],1)\n",
    "   return (SCResidual(data))/((a*b)*(n-1)) \n",
    "    \n",
    "end\n",
    "\n",
    "function RVA(data)\n",
    "    return CMA(data)/CMRES(data)\n",
    "end\n",
    "\n",
    "function RVB(data)\n",
    "    return CMB(data)/CMRES(data)    \n",
    "end\n",
    "\n",
    "function RVAB(data)\n",
    "    return CMAB(data)/CMRES(data)    \n",
    "end\n"
   ]
  },
  {
   "cell_type": "code",
   "execution_count": 155,
   "metadata": {},
   "outputs": [
    {
     "data": {
      "text/plain": [
       "ANOVATable (generic function with 1 method)"
      ]
     },
     "execution_count": 155,
     "metadata": {},
     "output_type": "execute_result"
    }
   ],
   "source": [
    "function ANOVATable(table)\n",
    "    grid = Grid()\n",
    "    #=Encabezados=#\n",
    "    grid[1,1] = Label(\"Fuente\")\n",
    "    grid[2,1] = Label(\"SC\")\n",
    "    grid[3,1] = Label(\"Grados de libertad\")\n",
    "    grid[4,1] = Label(\"CM\")\n",
    "    grid[5,1] = Label(\"R.V.\")\n",
    "    \n",
    "    #=Fuentes=#\n",
    "    grid[1,2] = Label(\"A\")\n",
    "    grid[1,3] = Label(\"B\")\n",
    "    grid[1,4] = Label(\"AB\")\n",
    "    grid[1,5] = Label(\"Tratamientos\")\n",
    "    grid[1,6] = Label(\"Residual\")\n",
    "    grid[1,7] = Label(\"Total\")\n",
    "    \n",
    "    #=Llenamos SC=#\n",
    "    grid[2,2] = Label(string(SCA(table)))\n",
    "    grid[2,3] = Label(string(SCB(table)))\n",
    "    grid[2,4] = Label(string(SCAB(table)))\n",
    "    grid[2,5] = Label(string(SCTr(table)))\n",
    "    grid[2,6] = Label(string(SCResidual(table)))\n",
    "    grid[2,7] = Label(string(SCA(table)+SCB(table)+SCAB(table)+SCTr(table)+SCResidual(table)))\n",
    "    \n",
    "    #=Los grados de libertad=#\n",
    "    a = size(table,1)\n",
    "    b = size(table[1],1)\n",
    "    n = size(table[1][1],1)\n",
    "    \n",
    "    grid[3,2] = Label(string(a-1))\n",
    "    grid[3,3] = Label(string(b-1))\n",
    "    grid[3,4] = Label(string((a-1)*(b-1)))\n",
    "    grid[3,5] = Label(string(a*b -1))\n",
    "    grid[3,6] = Label(string(a*b*(n-1)))\n",
    "    grid[3,7] = Label(string(a*b*n -1))\n",
    "    \n",
    "    #=Los CM=#\n",
    "    grid[4,2] = Label(string(CMA(table)))\n",
    "    grid[4,3] = Label(string(CMB(table)))\n",
    "    grid[4,4] = Label(string(CMAB(table)))\n",
    "    grid[4,5] = Label(\"\")\n",
    "    grid[4,6] = Label(string(CMRES(table)))\n",
    "    grid[4,7] = Label(\"\")\n",
    "    \n",
    "    #=Los RV=#\n",
    "    grid[5,2] = Label(string(RVA(table)))\n",
    "    grid[5,3] = Label(string(RVB(table)))\n",
    "    grid[5,4] = Label(string(RVAB(table)))\n",
    "    grid[5,5] = Label(\"\")\n",
    "    grid[5,6] = Label(\"\")\n",
    "    grid[5,7] = Label(\"\")\n",
    "    \n",
    "    setproperty!(grid, :column_homogeneous, true)\n",
    "    \n",
    "    window = Window()\n",
    "    push!(window,grid)\n",
    "    showall(window)\n",
    "    \n",
    "end"
   ]
  },
  {
   "cell_type": "markdown",
   "metadata": {},
   "source": [
    "## Ejemplo sobre como usar el programa.\n",
    "\n",
    "Lo primero que hay que hacer es llamar a la función enterANOVAData.\n",
    "Los parametros de esta son el número de filas (primer factor), el número de columnas (segundo factor), el tamaño de muestra\n",
    "de cada uno de los bloques, los nombres de las categorias del primer factor (si son carreras serian \"Actuaria, biología etc...\"), los nombres de las categorias del segundo factor (digamos \"realizar una actividad extra curricular\", \"no realizar act. extra\"), y finalmente también se nos pide una tabla vacia que llenar. \n",
    "\n",
    "Una vez llamada la función aparecera una hoja de datos que llenar. cuando se apriete el botón \"generate array\" la tabla que dimos como argumento a la función se llenara con los datos que hayamos introducido. Corra el siguiente ejemplo.\n"
   ]
  },
  {
   "cell_type": "code",
   "execution_count": 149,
   "metadata": {},
   "outputs": [
    {
     "name": "stdout",
     "output_type": "stream",
     "text": [
      "filled 2and 2\n",
      "filled 2and 3\n",
      "filled 3and 2\n",
      "filled 3and 3\n"
     ]
    },
    {
     "data": {
      "text/plain": [
       "Gtk.GtkWindowLeaf(name=\"\", parent, width-request=-1, height-request=-1, visible=TRUE, sensitive=TRUE, app-paintable=FALSE, can-focus=FALSE, has-focus=FALSE, is-focus=FALSE, focus-on-click=TRUE, can-default=FALSE, has-default=FALSE, receives-default=FALSE, composite-child=FALSE, style, events=0, no-show-all=FALSE, has-tooltip=FALSE, tooltip-markup=NULL, tooltip-text=NULL, window, opacity=1.000000, double-buffered, halign=GTK_ALIGN_FILL, valign=GTK_ALIGN_FILL, margin-left, margin-right, margin-start=0, margin-end=0, margin-top=0, margin-bottom=0, margin=0, hexpand=FALSE, vexpand=FALSE, hexpand-set=FALSE, vexpand-set=FALSE, expand=FALSE, scale-factor=1, border-width=0, resize-mode, child, type=GTK_WINDOW_TOPLEVEL, title=NULL, role=NULL, resizable=TRUE, modal=FALSE, window-position=GTK_WIN_POS_NONE, default-width=-1, default-height=-1, destroy-with-parent=FALSE, hide-titlebar-when-maximized=FALSE, icon, icon-name=NULL, screen, type-hint=GDK_WINDOW_TYPE_HINT_NORMAL, skip-taskbar-hint=FALSE, skip-pager-hint=FALSE, urgency-hint=FALSE, accept-focus=TRUE, focus-on-map=TRUE, decorated=TRUE, deletable=TRUE, gravity=GDK_GRAVITY_NORTH_WEST, transient-for, attached-to, has-resize-grip, resize-grip-visible, application, is-active=TRUE, has-toplevel-focus=TRUE, startup-id, mnemonics-visible=FALSE, focus-visible=FALSE, is-maximized=FALSE)"
      ]
     },
     "execution_count": 149,
     "metadata": {},
     "output_type": "execute_result"
    },
    {
     "name": "stdout",
     "output_type": "stream",
     "text": [
      "1.0\n",
      "2.0\n",
      "3.0\n",
      "4.0\n",
      "5.0\n",
      "6.0\n",
      "7.0\n",
      "8.0\n",
      "Array generated!\n"
     ]
    }
   ],
   "source": [
    "#=Primero se llamar la funcion enter=#\n",
    "rowNames = [\"fila 1\",\"fila 2\"]\n",
    "colNames = [\"columna 1\",\"columna2\"]\n",
    "rows = 2\n",
    "cols = 2\n",
    "sampleSize = 2\n",
    "table = []\n",
    "enterANOVAData(rows,cols,sampleSize,rowNames,colNames,table)\n"
   ]
  },
  {
   "cell_type": "code",
   "execution_count": 153,
   "metadata": {},
   "outputs": [
    {
     "data": {
      "text/plain": [
       "2-element Array{Any,1}:\n",
       " Any[Any[1.0, 2.0], Any[3.0, 4.0]]\n",
       " Any[Any[5.0, 6.0], Any[7.0, 8.0]]"
      ]
     },
     "execution_count": 153,
     "metadata": {},
     "output_type": "execute_result"
    }
   ],
   "source": [
    "table"
   ]
  },
  {
   "cell_type": "markdown",
   "metadata": {},
   "source": [
    "Una vez que se ha llenado la table simplemente es cuestión de pasarle esta a la función ANOVATable"
   ]
  },
  {
   "cell_type": "code",
   "execution_count": 156,
   "metadata": {},
   "outputs": [
    {
     "data": {
      "text/plain": [
       "Gtk.GtkWindowLeaf(name=\"\", parent, width-request=-1, height-request=-1, visible=TRUE, sensitive=TRUE, app-paintable=FALSE, can-focus=FALSE, has-focus=FALSE, is-focus=FALSE, focus-on-click=TRUE, can-default=FALSE, has-default=FALSE, receives-default=FALSE, composite-child=FALSE, style, events=0, no-show-all=FALSE, has-tooltip=FALSE, tooltip-markup=NULL, tooltip-text=NULL, window, opacity=1.000000, double-buffered, halign=GTK_ALIGN_FILL, valign=GTK_ALIGN_FILL, margin-left, margin-right, margin-start=0, margin-end=0, margin-top=0, margin-bottom=0, margin=0, hexpand=FALSE, vexpand=FALSE, hexpand-set=FALSE, vexpand-set=FALSE, expand=FALSE, scale-factor=1, border-width=0, resize-mode, child, type=GTK_WINDOW_TOPLEVEL, title=NULL, role=NULL, resizable=TRUE, modal=FALSE, window-position=GTK_WIN_POS_NONE, default-width=-1, default-height=-1, destroy-with-parent=FALSE, hide-titlebar-when-maximized=FALSE, icon, icon-name=NULL, screen, type-hint=GDK_WINDOW_TYPE_HINT_NORMAL, skip-taskbar-hint=FALSE, skip-pager-hint=FALSE, urgency-hint=FALSE, accept-focus=TRUE, focus-on-map=TRUE, decorated=TRUE, deletable=TRUE, gravity=GDK_GRAVITY_NORTH_WEST, transient-for, attached-to, has-resize-grip, resize-grip-visible, application, is-active=TRUE, has-toplevel-focus=TRUE, startup-id, mnemonics-visible=FALSE, focus-visible=FALSE, is-maximized=FALSE)"
      ]
     },
     "execution_count": 156,
     "metadata": {},
     "output_type": "execute_result"
    }
   ],
   "source": [
    "ANOVATable(table)"
   ]
  },
  {
   "cell_type": "code",
   "execution_count": null,
   "metadata": {},
   "outputs": [],
   "source": [
    "rowNames = [\"Actuaría\",\"Biología\",\"Ciencias de la Computación\",\"Física\",\"Matemáticas\"]\n",
    "colNames = [\"Realiza actividad extra\",\"No realiza actividad extra\"]\n",
    "rows = 5\n",
    "cols = 2\n",
    "sampleSize = 20\n",
    "table = []\n",
    "enterANOVAData(rows,cols,sampleSize,rowNames,colNames)"
   ]
  }
 ],
 "metadata": {
  "kernelspec": {
   "display_name": "Julia 0.6.2",
   "language": "julia",
   "name": "julia-0.6"
  },
  "language_info": {
   "file_extension": ".jl",
   "mimetype": "application/julia",
   "name": "julia",
   "version": "0.6.2"
  }
 },
 "nbformat": 4,
 "nbformat_minor": 2
}
